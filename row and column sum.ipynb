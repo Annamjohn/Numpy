{
  "cells": [
    {
      "cell_type": "markdown",
      "metadata": {
        "id": "view-in-github",
        "colab_type": "text"
      },
      "source": [
        "<a href=\"https://colab.research.google.com/github/Annamjohn/Numpy/blob/main/row%20and%20column%20sum.ipynb\" target=\"_parent\"><img src=\"https://colab.research.google.com/assets/colab-badge.svg\" alt=\"Open In Colab\"/></a>"
      ]
    },
    {
      "cell_type": "code",
      "source": [
        "#row sum\n",
        "import numpy as np\n",
        "a=np.array([(1,2,3),(4,5,6)])\n",
        "print(a.sum(axis=1))"
      ],
      "metadata": {
        "id": "mohIMkQvKzut",
        "outputId": "d21d7d70-3fb3-4c30-8b28-09b8c6dacde5",
        "colab": {
          "base_uri": "https://localhost:8080/"
        }
      },
      "execution_count": 33,
      "outputs": [
        {
          "output_type": "stream",
          "name": "stdout",
          "text": [
            "[ 6 15]\n"
          ]
        }
      ]
    },
    {
      "cell_type": "code",
      "source": [
        "#column sum\n",
        "import numpy as np\n",
        "a=np.array([(1,2,3),(4,5,6)])\n",
        "print(a.sum(axis=0))\n"
      ],
      "metadata": {
        "id": "kvdJe_xNLHPK",
        "outputId": "0d9bc110-711c-41f3-918d-a3b437bb1f5c",
        "colab": {
          "base_uri": "https://localhost:8080/"
        }
      },
      "execution_count": 34,
      "outputs": [
        {
          "output_type": "stream",
          "name": "stdout",
          "text": [
            "[5 7 9]\n"
          ]
        }
      ]
    }
  ],
  "metadata": {
    "colab": {
      "collapsed_sections": [],
      "name": "Welcome To Colaboratory",
      "provenance": [],
      "include_colab_link": true
    },
    "kernelspec": {
      "display_name": "Python 3",
      "name": "python3"
    }
  },
  "nbformat": 4,
  "nbformat_minor": 0
}