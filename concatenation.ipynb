{
  "cells": [
    {
      "cell_type": "markdown",
      "metadata": {
        "id": "view-in-github",
        "colab_type": "text"
      },
      "source": [
        "<a href=\"https://colab.research.google.com/github/Annamjohn/Numpy/blob/main/concatenation.ipynb\" target=\"_parent\"><img src=\"https://colab.research.google.com/assets/colab-badge.svg\" alt=\"Open In Colab\"/></a>"
      ]
    },
    {
      "cell_type": "code",
      "source": [
        "#vertical stack(concatenation)\n",
        "import numpy as np\n",
        "a=np.array([(1,2,3),(3,4,5)])\n",
        "\n",
        "b=np.array([(1,2,3),(3,4,5)])\n",
        "print(np.vstack((a,b)))"
      ],
      "metadata": {
        "colab": {
          "base_uri": "https://localhost:8080/"
        },
        "id": "mohIMkQvKzut",
        "outputId": "704c15b6-ce35-485b-ade3-3f3865522da4"
      },
      "execution_count": 41,
      "outputs": [
        {
          "output_type": "stream",
          "name": "stdout",
          "text": [
            "[[1 2 3]\n",
            " [3 4 5]\n",
            " [1 2 3]\n",
            " [3 4 5]]\n"
          ]
        }
      ]
    },
    {
      "cell_type": "code",
      "source": [
        "#horizontal stack(concatenation)\n",
        "import numpy as np\n",
        "a=np.array([(1,2,3),(3,4,5)])\n",
        "\n",
        "b=np.array([(1,2,3),(3,4,5)])\n",
        "print(np.hstack((a,b)))"
      ],
      "metadata": {
        "id": "bis0oxA6OVN0",
        "outputId": "594337c9-4df8-4697-a015-f2df28ccb355",
        "colab": {
          "base_uri": "https://localhost:8080/"
        }
      },
      "execution_count": 42,
      "outputs": [
        {
          "output_type": "stream",
          "name": "stdout",
          "text": [
            "[[1 2 3 1 2 3]\n",
            " [3 4 5 3 4 5]]\n"
          ]
        }
      ]
    }
  ],
  "metadata": {
    "colab": {
      "collapsed_sections": [],
      "name": "Welcome To Colaboratory",
      "provenance": [],
      "include_colab_link": true
    },
    "kernelspec": {
      "display_name": "Python 3",
      "name": "python3"
    }
  },
  "nbformat": 4,
  "nbformat_minor": 0
}